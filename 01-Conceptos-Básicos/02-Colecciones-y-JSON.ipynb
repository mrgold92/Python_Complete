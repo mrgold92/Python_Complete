{
  "metadata": {
    "language_info": {
      "codemirror_mode": {
        "name": "ipython",
        "version": 3
      },
      "file_extension": ".py",
      "mimetype": "text/x-python",
      "name": "python",
      "nbconvert_exporter": "python",
      "pygments_lexer": "ipython3",
      "version": "3.9.5"
    },
    "orig_nbformat": 2,
    "kernelspec": {
      "name": "python3",
      "display_name": "Python 3.9.5 64-bit"
    },
    "interpreter": {
      "hash": "a58b191ad2a25b19fea43b3067475f20bdb1c629ecc23182cd320980facf1bfc"
    }
  },
  "nbformat": 4,
  "nbformat_minor": 2,
  "cells": [
    {
      "cell_type": "code",
      "execution_count": 1,
      "source": [
        "#Utilizamos [] para crear una lista\r\n",
        "vacia  = []\r\n",
        "frutas = [\"naranja\", \"limón\", \"pomelo\", \"líma\"]\r\n",
        "\r\n",
        "#Mostramos todo el contenido de la lista\r\n",
        "print(frutas)\r\n",
        "\r\n",
        "#Mostramos el contenido de la posición 2 (pomelo)\r\n",
        "print(frutas[2])\r\n",
        "\r\n",
        "#Mostramos el número de veces que tenemos el valor de sandia\r\n",
        "print(frutas.count(\"sandia\"))\r\n",
        "\r\n",
        "#Mostramos el número de elementos de la Lista\r\n",
        "print(len(frutas))\r\n",
        "\r\n",
        "#Modificamos el contenido de la posición 2 (pomelo por fresa)\r\n",
        "frutas[2] = \"fresa\"\r\n",
        "\r\n",
        "#Utilizamos APPEND para añadir nuevo elementos a la lista\r\n",
        "frutas.append(\"manzana\")\r\n",
        "frutas.append(\"melón\")\r\n",
        "\r\n",
        "#Utilizamos POP(index) para eliminar el elemento en la posición 2\r\n",
        "frutas.pop(2)\r\n",
        "\r\n",
        "#Utilizamos REMOVE(value) para eliminar el elemento con valor naranja\r\n",
        "frutas.remove(\"naranja\")\r\n",
        "\r\n",
        "#Comprobamos si el valor sandia existe y eliminamos\r\n",
        "if(\"sandia\" in frutas):\r\n",
        "    frutas.remove(\"sandia\")\r\n",
        "\r\n",
        "#Utilizamos INSERT(index, value) para añadir un nuevo elemento en una posición\r\n",
        "frutas.insert(1, \"ciruela\")\r\n",
        "\r\n",
        "#Utilizamos EXTEND(values) para añadir nuevos valores a la Lista\r\n",
        "nuevasFrutas = [\"maracuya\", \"sandia\", \"kiwi\", \"platano\"]\r\n",
        "frutas.extend(nuevasFrutas)\r\n",
        "\r\n",
        "#Utilizamos SORT para ordenar los elementos de la Lista\r\n",
        "frutas.sort()\r\n",
        "frutas.sort(reverse = True)\r\n",
        "\r\n",
        "#Utilizamos REVERSE para invertir el orden de los elementos de la Lista\r\n",
        "frutas.reverse()\r\n",
        "\r\n",
        "#Utilizamos FOR para recorrer la Lista\r\n",
        "for f in frutas:\r\n",
        "    print(f)\r\n",
        "\r\n",
        "#Utilizamos CLEAR para eliminar todos los elementos de la Lista\r\n",
        "frutas.clear()"
      ],
      "outputs": [
        {
          "output_type": "stream",
          "name": "stdout",
          "text": [
            "['naranja', 'limón', 'pomelo', 'líma']\n",
            "pomelo\n",
            "0\n",
            "4\n",
            "ciruela\n",
            "kiwi\n",
            "limón\n",
            "líma\n",
            "manzana\n",
            "maracuya\n",
            "melón\n",
            "platano\n",
            "sandia\n"
          ]
        }
      ],
      "metadata": {}
    },
    {
      "cell_type": "code",
      "execution_count": 2,
      "source": [
        "# Cada valor es asociado con un clave que nos permite acceder al mismo\r\n",
        "# No se permiten claves duplicadas\r\n",
        "# Las claves pude ser númericas o alfanúmericas\r\n",
        "frutasDic = {\"NA\":\"naranja\", \"LI\":\"limón\", \"PO\":\"pomelo\", \"LM\":\"líma\"}\r\n",
        "\r\n",
        "#Utilizamos FOR para recorrer la lista de claves que nos permiten acceder a los valores\r\n",
        "for key in frutasDic:\r\n",
        "    print(f\"Clave: {key} - Valor: {frutasDic[key]}\")\r\n",
        "\r\n",
        "#Insertar un nuevo elemento al diccionario\r\n",
        "#Especificamos una clave nueva\r\n",
        "frutasDic[\"FR\"] = \"Fresa\"\r\n",
        "\r\n",
        "#Modificar el valor de un elemento del diccionario\r\n",
        "#Especificamos una clave existente\r\n",
        "frutasDic[\"PO\"] = \"Pera\"\r\n",
        "\r\n",
        "#Eliminar un elemento del diccionario\r\n",
        "#Especificamos una clave existente\r\n",
        "frutasDic.pop(\"PO\")\r\n",
        "\r\n",
        "#Acceder al valor de un elemento del diccionario\r\n",
        "#Especificamos una clave existente\r\n",
        "print(frutasDic[\"NA\"])\r\n",
        "\r\n",
        "#Acceder al valor de un elemento del diccionario\r\n",
        "#La función GET retorna None si no exite un elemento con la clave especificada\r\n",
        "print(frutasDic.get(\"NA\"))\r\n",
        "print(frutasDic.get(\"SA\"))"
      ],
      "outputs": [
        {
          "output_type": "stream",
          "name": "stdout",
          "text": [
            "Clave: NA - Valor: naranja\n",
            "Clave: LI - Valor: limón\n",
            "Clave: PO - Valor: pomelo\n",
            "Clave: LM - Valor: líma\n",
            "naranja\n",
            "naranja\n",
            "None\n"
          ]
        }
      ],
      "metadata": {}
    },
    {
      "cell_type": "code",
      "execution_count": 3,
      "source": [
        "import json\r\n",
        "\r\n",
        "frutas = [\"naranja\", \"limón\", \"pomelo\", \"líma\"]\r\n",
        "frutasJSON = json.dumps(frutas)\r\n",
        "\r\n",
        "print(type(frutas))\r\n",
        "print(type(frutasJSON))\r\n",
        "print(f\"Fruta posición 2: {frutas[2]}\")\r\n",
        "\r\n",
        "frutas2 = json.loads(frutasJSON)\r\n",
        "print(type(frutas2))\r\n",
        "print(f\"Fruta posición 2: {frutas2[2]}\")"
      ],
      "outputs": [
        {
          "output_type": "stream",
          "name": "stdout",
          "text": [
            "<class 'list'>\n",
            "<class 'str'>\n",
            "Fruta posición 2: pomelo\n",
            "<class 'list'>\n",
            "Fruta posición 2: pomelo\n"
          ]
        }
      ],
      "metadata": {}
    }
  ]
}